{
  "nbformat": 4,
  "nbformat_minor": 0,
  "metadata": {
    "colab": {
      "name": "etf2l_stats.ipynb",
      "provenance": [],
      "collapsed_sections": []
    },
    "kernelspec": {
      "name": "python3",
      "display_name": "Python 3"
    },
    "language_info": {
      "name": "python"
    }
  },
  "cells": [
    {
      "cell_type": "markdown",
      "source": [
        "# Most games in ETF2L history\n",
        "https://github.com/Astatham98/etf2l_matches\n",
        "\n",
        "Press the magic wand to get a full table"
      ],
      "metadata": {
        "id": "q4-S0oIeSZZQ"
      }
    },
    {
      "cell_type": "code",
      "source": [
        "import pandas as pd\n",
        "df = pd.read_csv('player_stats.csv')\n",
        "df"
      ],
      "metadata": {
        "id": "ND3DtHKISXTI"
      },
      "execution_count": null,
      "outputs": []
    },
    {
      "cell_type": "code",
      "source": [
        "df_games = df[[\"Name\", \"Highlander games\", \"6's games\"]]"
      ],
      "metadata": {
        "id": "rVdjsK6SUcRs"
      },
      "execution_count": null,
      "outputs": []
    },
    {
      "cell_type": "markdown",
      "source": [
        "## Most HL games played"
      ],
      "metadata": {
        "id": "-whLirIjVrQK"
      }
    },
    {
      "cell_type": "code",
      "source": [
        "hl = df_games.sort_values(by=[\"Highlander games\"], ascending=False)\n",
        "hl"
      ],
      "metadata": {
        "id": "2iB1QRwkVtfo"
      },
      "execution_count": null,
      "outputs": []
    },
    {
      "cell_type": "markdown",
      "source": [
        "## Most 6's games played"
      ],
      "metadata": {
        "id": "AooX9ZHHWGRe"
      }
    },
    {
      "cell_type": "code",
      "source": [
        "sixes = df_games.sort_values(by=[\"6's games\"], ascending=False)\n",
        "sixes"
      ],
      "metadata": {
        "id": "4lVpm0EkWIcH"
      },
      "execution_count": null,
      "outputs": []
    },
    {
      "cell_type": "markdown",
      "source": [
        "## Country statistics"
      ],
      "metadata": {
        "id": "gglg88ruWsrw"
      }
    },
    {
      "cell_type": "code",
      "source": [
        "df_country = df[['Matches played', 'Country']]"
      ],
      "metadata": {
        "id": "XR4cvphIWNVW"
      },
      "execution_count": null,
      "outputs": []
    },
    {
      "cell_type": "code",
      "source": [
        "countries_stats = {}\n",
        "for matches, country in zip(df_country['Matches played'].tolist(), df_country['Country'].tolist()):\n",
        "  stats = countries_stats.get(country, [])\n",
        "  if len(stats) > 0: \n",
        "    total = stats[0] + 1\n",
        "    amount = stats[1] + matches\n",
        "  else: total, amount = 1, matches\n",
        "  countries_stats[country] = [total, amount]\n",
        "\n",
        "country = []\n",
        "total_matches = []\n",
        "average = []\n",
        "most_seen = []\n",
        "for k, v in countries_stats.items():\n",
        "  country.append(k)\n",
        "  total_matches.append(v[1])\n",
        "  most_seen.append(v[0])\n",
        "  average.append(v[1]/v[0])\n",
        "\n",
        "country_stats_dict = {'Country': country, \n",
        "                      'Total matches': total_matches, \n",
        "                      'Average matches': average,\n",
        "                      'Most seen country in the top 100': most_seen,}\n",
        "df_country_stats = pd.DataFrame(country_stats_dict)"
      ],
      "metadata": {
        "id": "LPfpNTfoWzfk"
      },
      "execution_count": null,
      "outputs": []
    },
    {
      "cell_type": "markdown",
      "source": [
        "## Total matches for a country"
      ],
      "metadata": {
        "id": "xYdM0mrkbZev"
      }
    },
    {
      "cell_type": "code",
      "source": [
        "total = df_country_stats.sort_values(by=[\"Total matches\"], ascending=False)\n",
        "total"
      ],
      "metadata": {
        "id": "8npdvCySXMl0"
      },
      "execution_count": null,
      "outputs": []
    },
    {
      "cell_type": "markdown",
      "source": [
        "## Average matches per country"
      ],
      "metadata": {
        "id": "D5o2dUKZbokB"
      }
    },
    {
      "cell_type": "code",
      "source": [
        "avg = df_country_stats.sort_values(by=[\"Average matches\"], ascending=False)\n",
        "avg"
      ],
      "metadata": {
        "id": "e-jKZaTgbrQn"
      },
      "execution_count": null,
      "outputs": []
    },
    {
      "cell_type": "markdown",
      "source": [
        "## Most times seen in the top 100"
      ],
      "metadata": {
        "id": "T8F_jCLVb4jt"
      }
    },
    {
      "cell_type": "code",
      "source": [
        "seen = df_country_stats.sort_values(by=[\"Most seen country in the top 100\"], ascending=False)\n",
        "seen"
      ],
      "metadata": {
        "id": "N7GZoymUb43U"
      },
      "execution_count": null,
      "outputs": []
    },
    {
      "cell_type": "code",
      "source": [
        ""
      ],
      "metadata": {
        "id": "lAnaVDEob_pk"
      },
      "execution_count": null,
      "outputs": []
    }
  ]
}